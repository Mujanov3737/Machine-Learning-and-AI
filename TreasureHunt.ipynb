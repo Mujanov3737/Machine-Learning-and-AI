{
 "cells": [
  {
   "attachments": {},
   "cell_type": "markdown",
   "metadata": {},
   "source": [
    "# Treasure Hunt Game Notebook\n",
    "\n",
    "## Read and Review Your Starter Code\n",
    "The theme of this project is a popular treasure hunt game in which the player needs to find the treasure before the pirate does. While you will not be developing the entire game, you will write the part of the game that represents the intelligent agent, which is a pirate in this case. The pirate will try to find the optimal path to the treasure using deep Q-learning. \n",
    "\n",
    "You have been provided with two Python classes and this notebook to help you with this assignment. The first class, TreasureMaze.py, represents the environment, which includes a maze object defined as a matrix. The second class, GameExperience.py, stores the episodes – that is, all the states that come in between the initial state and the terminal state. This is later used by the agent for learning by experience, called \"exploration\". This notebook shows how to play a game. Your task is to complete the deep Q-learning implementation for which a skeleton implementation has been provided. The code blocks you will need to complete has #TODO as a header.\n",
    "\n",
    "First, read and review the next few code and instruction blocks to understand the code that you have been given."
   ]
  },
  {
   "cell_type": "code",
   "execution_count": 259,
   "metadata": {},
   "outputs": [],
   "source": [
    "from __future__ import print_function\n",
    "import os, sys, time, datetime, json, random\n",
    "import numpy as np\n",
    "from keras.models import Sequential\n",
    "from keras.layers.core import Dense, Activation\n",
    "from keras.optimizers import SGD , Adam, RMSprop\n",
    "from keras.layers.advanced_activations import PReLU\n",
    "import matplotlib.pyplot as plt\n",
    "from TreasureMaze import TreasureMaze\n",
    "from GameExperience import GameExperience\n",
    "%matplotlib inline"
   ]
  },
  {
   "attachments": {},
   "cell_type": "markdown",
   "metadata": {},
   "source": [
    "The following code block contains an 8x8 matrix that will be used as a maze object:"
   ]
  },
  {
   "cell_type": "code",
   "execution_count": 260,
   "metadata": {},
   "outputs": [],
   "source": [
    "maze = np.array([\n",
    "    [ 1.,  0.,  1.,  1.,  1.,  1.,  1.,  1.],\n",
    "    [ 1.,  0.,  1.,  1.,  1.,  0.,  1.,  1.],\n",
    "    [ 1.,  1.,  1.,  1.,  0.,  1.,  0.,  1.],\n",
    "    [ 1.,  1.,  1.,  0.,  1.,  1.,  1.,  1.],\n",
    "    [ 1.,  1.,  0.,  1.,  1.,  1.,  1.,  1.],\n",
    "    [ 1.,  1.,  1.,  0.,  1.,  0.,  0.,  0.],\n",
    "    [ 1.,  1.,  1.,  0.,  1.,  1.,  1.,  1.],\n",
    "    [ 1.,  1.,  1.,  1.,  0.,  1.,  1.,  1.]\n",
    "])"
   ]
  },
  {
   "attachments": {},
   "cell_type": "markdown",
   "metadata": {},
   "source": [
    "This helper function allows a visual representation of the maze object:"
   ]
  },
  {
   "cell_type": "code",
   "execution_count": 261,
   "metadata": {},
   "outputs": [],
   "source": [
    "def show(qmaze):\n",
    "    plt.grid('on')\n",
    "    nrows, ncols = qmaze.maze.shape\n",
    "    ax = plt.gca()\n",
    "    ax.set_xticks(np.arange(0.5, nrows, 1))\n",
    "    ax.set_yticks(np.arange(0.5, ncols, 1))\n",
    "    ax.set_xticklabels([])\n",
    "    ax.set_yticklabels([])\n",
    "    canvas = np.copy(qmaze.maze)\n",
    "    for row,col in qmaze.visited:\n",
    "        canvas[row,col] = 0.6\n",
    "    pirate_row, pirate_col, _ = qmaze.state\n",
    "    canvas[pirate_row, pirate_col] = 0.3   # pirate cell\n",
    "    canvas[nrows-1, ncols-1] = 0.9 # treasure cell\n",
    "    img = plt.imshow(canvas, interpolation='none', cmap='gray')\n",
    "    return img"
   ]
  },
  {
   "attachments": {},
   "cell_type": "markdown",
   "metadata": {},
   "source": [
    "The pirate agent can move in four directions: left, right, up, and down. \n",
    "\n",
    "While the agent primarily learns by experience through exploitation, often, the agent can choose to explore the environment to find previously undiscovered paths. This is called \"exploration\" and is defined by epsilon. This value is typically a lower value such as 0.1, which means for every ten attempts, the agent will attempt to learn by experience nine times and will randomly explore a new path one time. You are encouraged to try various values for the exploration factor and see how the algorithm performs."
   ]
  },
  {
   "cell_type": "code",
   "execution_count": 262,
   "metadata": {},
   "outputs": [],
   "source": [
    "LEFT = 0\n",
    "UP = 1\n",
    "RIGHT = 2\n",
    "DOWN = 3\n",
    "\n",
    "\n",
    "# Exploration factor\n",
    "epsilon = 0.1\n",
    "\n",
    "# Actions dictionary\n",
    "actions_dict = {\n",
    "    LEFT: 'left',\n",
    "    UP: 'up',\n",
    "    RIGHT: 'right',\n",
    "    DOWN: 'down',\n",
    "}\n",
    "\n",
    "num_actions = len(actions_dict)\n"
   ]
  },
  {
   "attachments": {},
   "cell_type": "markdown",
   "metadata": {},
   "source": [
    "The sample code block and output below show creating a maze object and performing one action (DOWN), which returns the reward. The resulting updated environment is visualized."
   ]
  },
  {
   "cell_type": "code",
   "execution_count": 263,
   "metadata": {},
   "outputs": [
    {
     "name": "stdout",
     "output_type": "stream",
     "text": [
      "reward= -0.04\n"
     ]
    },
    {
     "data": {
      "text/plain": [
       "<matplotlib.image.AxesImage at 0x21c3e21dd08>"
      ]
     },
     "execution_count": 263,
     "metadata": {},
     "output_type": "execute_result"
    },
    {
     "data": {
      "image/png": "[encoded data removed]",
      "text/plain": [
       "<Figure size 432x288 with 1 Axes>"
      ]
     },
     "metadata": {
      "needs_background": "light"
     },
     "output_type": "display_data"
    }
   ],
   "source": [
    "qmaze = TreasureMaze(maze)\n",
    "canvas, reward, game_over = qmaze.act(DOWN)\n",
    "print(\"reward=\", reward)\n",
    "show(qmaze)"
   ]
  },
  {
   "attachments": {},
   "cell_type": "markdown",
   "metadata": {},
   "source": [
    "This function simulates a full game based on the provided trained model. The other parameters include the TreasureMaze object and the starting position of the pirate."
   ]
  },
  {
   "cell_type": "code",
   "execution_count": 264,
   "metadata": {},
   "outputs": [],
   "source": [
    "def play_game(model, qmaze, pirate_cell):\n",
    "    qmaze.reset(pirate_cell)\n",
    "    envstate = qmaze.observe()\n",
    "    while True:\n",
    "        prev_envstate = envstate\n",
    "        # get next action\n",
    "        q = model.predict(prev_envstate)\n",
    "        action = np.argmax(q[0])\n",
    "\n",
    "        # apply action, get rewards and new state\n",
    "        envstate, reward, game_status = qmaze.act(action)\n",
    "        if game_status == 'win':\n",
    "            return True\n",
    "        elif game_status == 'lose':\n",
    "            return False"
   ]
  },
  {
   "attachments": {},
   "cell_type": "markdown",
   "metadata": {},
   "source": [
    "This function helps you to determine whether the pirate can win any game at all. If your maze is not well designed, the pirate may not win any game at all. In this case, your training would not yield any result. The provided maze in this notebook ensures that there is a path to win and you can run this method to check."
   ]
  },
  {
   "cell_type": "code",
   "execution_count": 265,
   "metadata": {},
   "outputs": [],
   "source": [
    "def completion_check(model, qmaze):\n",
    "    for cell in qmaze.free_cells:\n",
    "        if not qmaze.valid_actions(cell):\n",
    "            return False\n",
    "        if not play_game(model, qmaze, cell):\n",
    "            return False\n",
    "    return True"
   ]
  },
  {
   "attachments": {},
   "cell_type": "markdown",
   "metadata": {},
   "source": [
    "The code you have been given in this block will build the neural network model. Review the code and note the number of layers, as well as the activation, optimizer, and loss functions that are used to train the model."
   ]
  },
  {
   "cell_type": "code",
   "execution_count": 266,
   "metadata": {},
   "outputs": [],
   "source": [
    "def build_model(maze):\n",
    "    model = Sequential()\n",
    "    model.add(Dense(maze.size, input_shape=(maze.size,)))\n",
    "    model.add(PReLU())\n",
    "    model.add(Dense(maze.size))\n",
    "    model.add(PReLU())\n",
    "    model.add(Dense(num_actions))\n",
    "    model.compile(optimizer='adam', loss='mse')\n",
    "    return model"
   ]
  },
  {
   "attachments": {},
   "cell_type": "markdown",
   "metadata": {},
   "source": [
    "Q-Training Algorithm Code Block\n",
    "\n",
    "This is your deep Q-learning implementation. The goal of your deep Q-learning implementation is to find the best possible navigation sequence that results in reaching the treasure cell while maximizing the reward. In your implementation, you need to determine the optimal number of epochs to achieve a 100% win rate."
   ]
  },
  {
   "cell_type": "code",
   "execution_count": 267,
   "metadata": {},
   "outputs": [],
   "source": [
    "def qtrain(model, maze, **opt):\n",
    "\n",
    "    # exploration factor\n",
    "    global epsilon \n",
    "\n",
    "    # number of epochs\n",
    "    n_epoch = opt.get('n_epoch', 15000)\n",
    "\n",
    "    # maximum memory to store episodes\n",
    "    max_memory = opt.get('max_memory', 1000)\n",
    "\n",
    "    # maximum data size for training\n",
    "    data_size = opt.get('data_size', 50)\n",
    "\n",
    "    # start time\n",
    "    start_time = datetime.datetime.now()\n",
    "\n",
    "    # Construct environment/game from numpy array: maze (see above)\n",
    "    qmaze = TreasureMaze(maze)\n",
    "\n",
    "    # Initialize experience replay object\n",
    "    experience = GameExperience(model, max_memory=max_memory)\n",
    "    \n",
    "    win_history = []   # history of win/lose game\n",
    "    hsize = qmaze.maze.size//2   # history window size\n",
    "    win_rate = 0.0\n",
    "    \n",
    "    # For each epoch:\n",
    "    for epoch in range(n_epoch):\n",
    "        \n",
    "        n_episodes = 0  # Tracking number of episodes for each epoch\n",
    "        \n",
    "        agent_cell = random.choice(qmaze.free_cells)\n",
    "\n",
    "    #   Reset the maze with agent set to above position\n",
    "        qmaze.reset(agent_cell)\n",
    "\n",
    "        envstate = qmaze.observe()\n",
    "\n",
    "    #   While state is not game over:\n",
    "        while qmaze.game_status() == 'not_over':\n",
    "            previous_envstate = envstate\n",
    "\n",
    "    #       Action = randomly choose action (left, right, up, down) either by exploration or by exploitation\n",
    "    #       Here we select a random action by exploration\n",
    "            if np.random.rand() < epsilon:\n",
    "                action = random.choice(qmaze.valid_actions())\n",
    "            # Here we select a random action by exploitation\n",
    "            else:\n",
    "                action = np.argmax(experience.predict(previous_envstate))\n",
    "\n",
    "            envstate, reward, game_status = qmaze.act(action)\n",
    "\n",
    "            episode = [previous_envstate, action, reward, envstate, game_status]\n",
    "        \n",
    "    #       Store episode in Experience replay object\n",
    "            experience.remember(episode)\n",
    "            # Incrementing episodes\n",
    "            n_episodes+= 1\n",
    "\n",
    "            # This conditional determines if the 5th element, which is game status, is won or lost\n",
    "            # It will append a victory or loss depending on the result to the win history array\n",
    "            if episode[4] == 'win':\n",
    "                win_history.append(1)\n",
    "                win_rate=sum(win_history) / len(win_history)    # Win rate is calculated here\n",
    "                break\n",
    "            elif episode[4] == 'lose':\n",
    "                win_history.append(0)\n",
    "                win_rate=sum(win_history) / len(win_history)\n",
    "                break\n",
    "\n",
    "    #       etrieve training data (input and target) and pass to model.fit method to train the model. \n",
    "    #       You can call model.evaluate to determine loss.\n",
    "    #       Train neural network model and evaluate loss\n",
    "            inputs, targets = experience.get_data()\n",
    "\n",
    "            # Fit method to train the model\n",
    "            history = model.fit(\n",
    "                inputs, \n",
    "                targets, \n",
    "                epochs=10, # Using 10 epochs\n",
    "                verbose=0,\n",
    "                batch_size=20, # Using batch size of 20\n",
    "            )\n",
    "            loss = model.evaluate(inputs, targets, verbose=0)\n",
    "            # Note the verbose=0 simply indicates that we do not want the inner workings of the training printed to us         \n",
    "        if len(win_history) > hsize:\n",
    "            win_history.pop(0)\n",
    "\n",
    "    #   Print the epoch, loss, episodes, win count, and win rate for each epoch\n",
    "        dt = datetime.datetime.now() - start_time\n",
    "        t = format_time(dt.total_seconds())\n",
    "        template = \"Epoch: {:03d}/{:d} | Loss: {:.4f} | Episodes: {:d} | Win count: {:d} | Win rate: {:.3f} | time: {}\"\n",
    "        print(template.format(epoch, n_epoch-1, loss, n_episodes, sum(win_history), win_rate, t))\n",
    "        # We simply check if training has exhausted all free cells and if in all\n",
    "        # cases the agent won.\n",
    "        if win_rate > 0.9 : epsilon = 0.05\n",
    "        if sum(win_history[-hsize:]) == hsize and completion_check(model, qmaze):\n",
    "            print(\"Reached 100%% win rate at epoch: %d\" % (epoch,))\n",
    "            break\n",
    "    \n",
    "    # Determine the total time for training\n",
    "    dt = datetime.datetime.now() - start_time\n",
    "    seconds = dt.total_seconds()\n",
    "    t = format_time(seconds)\n",
    "\n",
    "    print(\"n_epoch: %d, max_mem: %d, data: %d, time: %s\" % (epoch, max_memory, data_size, t))\n",
    "    return seconds\n",
    "\n",
    "# This is a small utility for printing readable time strings:\n",
    "def format_time(seconds):\n",
    "    if seconds < 400:\n",
    "        s = float(seconds)\n",
    "        return \"%.1f seconds\" % (s,)\n",
    "    elif seconds < 4000:\n",
    "        m = seconds / 60.0\n",
    "        return \"%.2f minutes\" % (m,)\n",
    "    else:\n",
    "        h = seconds / 3600.0\n",
    "        return \"%.2f hours\" % (h,)"
   ]
  },
  {
   "attachments": {},
   "cell_type": "markdown",
   "metadata": {},
   "source": [
    "## Test Your Model\n",
    "\n",
    "Now we will start testing the deep Q-learning implementation. To begin, select **Cell**, then **Run All** from the menu bar. This will run your notebook. As it runs, you should see output begin to appear beneath the next few cells. The code below creates an instance of TreasureMaze."
   ]
  },
  {
   "cell_type": "code",
   "execution_count": 268,
   "metadata": {},
   "outputs": [
    {
     "data": {
      "text/plain": [
       "<matplotlib.image.AxesImage at 0x21c3fb6bd08>"
      ]
     },
     "execution_count": 268,
     "metadata": {},
     "output_type": "execute_result"
    },
    {
     "data": {
      "image/png": "[encoded data removed]",
      "text/plain": [
       "<Figure size 432x288 with 1 Axes>"
      ]
     },
     "metadata": {
      "needs_background": "light"
     },
     "output_type": "display_data"
    }
   ],
   "source": [
    "qmaze = TreasureMaze(maze)\n",
    "show(qmaze)"
   ]
  },
  {
   "attachments": {},
   "cell_type": "markdown",
   "metadata": {},
   "source": [
    "In the next code block, you will build your model and train it using deep Q-learning. Note: This step takes several minutes to fully run."
   ]
  },
  {
   "cell_type": "code",
   "execution_count": 269,
   "metadata": {},
   "outputs": [
    {
     "name": "stdout",
     "output_type": "stream",
     "text": [
      "Epoch: 000/14999 | Loss: 0.0080 | Episodes: 42 | Win count: 1 | Win rate: 1.000 | time: 2.7 seconds\n",
      "Epoch: 001/14999 | Loss: 0.0000 | Episodes: 132 | Win count: 1 | Win rate: 0.500 | time: 6.4 seconds\n",
      "Epoch: 002/14999 | Loss: 0.0005 | Episodes: 20 | Win count: 2 | Win rate: 0.667 | time: 6.9 seconds\n",
      "Epoch: 003/14999 | Loss: 0.0001 | Episodes: 134 | Win count: 2 | Win rate: 0.500 | time: 10.7 seconds\n",
      "Epoch: 004/14999 | Loss: 0.0008 | Episodes: 136 | Win count: 2 | Win rate: 0.400 | time: 14.6 seconds\n",
      "Epoch: 005/14999 | Loss: 0.0008 | Episodes: 1 | Win count: 3 | Win rate: 0.500 | time: 14.6 seconds\n",
      "Epoch: 006/14999 | Loss: 0.0002 | Episodes: 129 | Win count: 4 | Win rate: 0.571 | time: 18.3 seconds\n",
      "Epoch: 007/14999 | Loss: 0.0007 | Episodes: 135 | Win count: 4 | Win rate: 0.500 | time: 22.1 seconds\n",
      "Epoch: 008/14999 | Loss: 0.0007 | Episodes: 139 | Win count: 4 | Win rate: 0.444 | time: 26.0 seconds\n",
      "Epoch: 009/14999 | Loss: 0.0002 | Episodes: 141 | Win count: 4 | Win rate: 0.400 | time: 30.0 seconds\n",
      "Epoch: 010/14999 | Loss: 0.0010 | Episodes: 66 | Win count: 5 | Win rate: 0.455 | time: 31.8 seconds\n",
      "Epoch: 011/14999 | Loss: 0.0145 | Episodes: 34 | Win count: 6 | Win rate: 0.500 | time: 32.8 seconds\n",
      "Epoch: 012/14999 | Loss: 0.0016 | Episodes: 30 | Win count: 7 | Win rate: 0.538 | time: 33.6 seconds\n",
      "Epoch: 013/14999 | Loss: 0.0018 | Episodes: 73 | Win count: 8 | Win rate: 0.571 | time: 35.7 seconds\n",
      "Epoch: 014/14999 | Loss: 0.0004 | Episodes: 7 | Win count: 9 | Win rate: 0.600 | time: 35.8 seconds\n",
      "Epoch: 015/14999 | Loss: 0.0012 | Episodes: 137 | Win count: 9 | Win rate: 0.562 | time: 39.7 seconds\n",
      "Epoch: 016/14999 | Loss: 0.0010 | Episodes: 144 | Win count: 9 | Win rate: 0.529 | time: 43.7 seconds\n",
      "Epoch: 017/14999 | Loss: 0.0004 | Episodes: 134 | Win count: 9 | Win rate: 0.500 | time: 47.5 seconds\n",
      "Epoch: 018/14999 | Loss: 0.0006 | Episodes: 5 | Win count: 10 | Win rate: 0.526 | time: 47.6 seconds\n",
      "Epoch: 019/14999 | Loss: 0.0006 | Episodes: 1 | Win count: 11 | Win rate: 0.550 | time: 47.6 seconds\n",
      "Epoch: 020/14999 | Loss: 0.0001 | Episodes: 131 | Win count: 11 | Win rate: 0.524 | time: 51.3 seconds\n",
      "Epoch: 021/14999 | Loss: 0.0000 | Episodes: 131 | Win count: 11 | Win rate: 0.500 | time: 55.0 seconds\n",
      "Epoch: 022/14999 | Loss: 0.0007 | Episodes: 12 | Win count: 12 | Win rate: 0.522 | time: 55.4 seconds\n",
      "Epoch: 023/14999 | Loss: 0.0001 | Episodes: 139 | Win count: 12 | Win rate: 0.500 | time: 59.4 seconds\n",
      "Epoch: 024/14999 | Loss: 0.0002 | Episodes: 138 | Win count: 12 | Win rate: 0.480 | time: 63.4 seconds\n",
      "Epoch: 025/14999 | Loss: 0.0001 | Episodes: 15 | Win count: 13 | Win rate: 0.500 | time: 63.8 seconds\n",
      "Epoch: 026/14999 | Loss: 0.0005 | Episodes: 8 | Win count: 14 | Win rate: 0.519 | time: 64.0 seconds\n",
      "Epoch: 027/14999 | Loss: 0.0005 | Episodes: 139 | Win count: 14 | Win rate: 0.500 | time: 67.9 seconds\n",
      "Epoch: 028/14999 | Loss: 0.0005 | Episodes: 1 | Win count: 15 | Win rate: 0.517 | time: 67.9 seconds\n",
      "Epoch: 029/14999 | Loss: 0.0009 | Episodes: 2 | Win count: 16 | Win rate: 0.533 | time: 68.0 seconds\n",
      "Epoch: 030/14999 | Loss: 0.0007 | Episodes: 40 | Win count: 17 | Win rate: 0.548 | time: 69.1 seconds\n",
      "Epoch: 031/14999 | Loss: 0.0009 | Episodes: 14 | Win count: 18 | Win rate: 0.562 | time: 69.5 seconds\n",
      "Epoch: 032/14999 | Loss: 0.0002 | Episodes: 10 | Win count: 18 | Win rate: 0.576 | time: 69.8 seconds\n",
      "Epoch: 033/14999 | Loss: 0.0002 | Episodes: 7 | Win count: 19 | Win rate: 0.576 | time: 69.9 seconds\n",
      "Epoch: 034/14999 | Loss: 0.0002 | Episodes: 140 | Win count: 18 | Win rate: 0.576 | time: 73.9 seconds\n",
      "Epoch: 035/14999 | Loss: 0.0006 | Episodes: 5 | Win count: 19 | Win rate: 0.576 | time: 74.0 seconds\n",
      "Epoch: 036/14999 | Loss: 0.0003 | Episodes: 35 | Win count: 20 | Win rate: 0.606 | time: 75.0 seconds\n",
      "Epoch: 037/14999 | Loss: 0.0003 | Episodes: 29 | Win count: 20 | Win rate: 0.636 | time: 75.8 seconds\n",
      "Epoch: 038/14999 | Loss: 0.0004 | Episodes: 3 | Win count: 20 | Win rate: 0.636 | time: 75.8 seconds\n",
      "Epoch: 039/14999 | Loss: 0.0005 | Episodes: 9 | Win count: 21 | Win rate: 0.636 | time: 76.1 seconds\n",
      "Epoch: 040/14999 | Loss: 0.0010 | Episodes: 18 | Win count: 22 | Win rate: 0.667 | time: 76.6 seconds\n",
      "Epoch: 041/14999 | Loss: 0.0007 | Episodes: 138 | Win count: 22 | Win rate: 0.667 | time: 80.5 seconds\n",
      "Epoch: 042/14999 | Loss: 0.0002 | Episodes: 15 | Win count: 22 | Win rate: 0.697 | time: 81.0 seconds\n",
      "Epoch: 043/14999 | Loss: 0.0001 | Episodes: 136 | Win count: 21 | Win rate: 0.667 | time: 84.9 seconds\n",
      "Epoch: 044/14999 | Loss: 0.0001 | Episodes: 139 | Win count: 20 | Win rate: 0.636 | time: 88.8 seconds\n",
      "Epoch: 045/14999 | Loss: 0.0008 | Episodes: 41 | Win count: 20 | Win rate: 0.636 | time: 90.0 seconds\n",
      "Epoch: 046/14999 | Loss: 0.0007 | Episodes: 5 | Win count: 20 | Win rate: 0.636 | time: 90.1 seconds\n",
      "Epoch: 047/14999 | Loss: 0.0006 | Episodes: 8 | Win count: 21 | Win rate: 0.636 | time: 90.3 seconds\n",
      "Epoch: 048/14999 | Loss: 0.0006 | Episodes: 1 | Win count: 22 | Win rate: 0.667 | time: 90.3 seconds\n",
      "Epoch: 049/14999 | Loss: 0.0003 | Episodes: 9 | Win count: 23 | Win rate: 0.697 | time: 90.5 seconds\n",
      "Epoch: 050/14999 | Loss: 0.0007 | Episodes: 16 | Win count: 23 | Win rate: 0.727 | time: 91.0 seconds\n",
      "Epoch: 051/14999 | Loss: 0.0001 | Episodes: 139 | Win count: 22 | Win rate: 0.697 | time: 94.9 seconds\n",
      "Epoch: 052/14999 | Loss: 0.0002 | Episodes: 7 | Win count: 23 | Win rate: 0.697 | time: 95.1 seconds\n",
      "Epoch: 053/14999 | Loss: 0.0001 | Episodes: 11 | Win count: 24 | Win rate: 0.727 | time: 95.4 seconds\n",
      "Epoch: 054/14999 | Loss: 0.0014 | Episodes: 9 | Win count: 24 | Win rate: 0.758 | time: 95.6 seconds\n",
      "Epoch: 055/14999 | Loss: 0.0012 | Episodes: 140 | Win count: 24 | Win rate: 0.727 | time: 99.5 seconds\n",
      "Epoch: 056/14999 | Loss: 0.0001 | Episodes: 2 | Win count: 25 | Win rate: 0.758 | time: 99.6 seconds\n",
      "Epoch: 057/14999 | Loss: 0.0007 | Episodes: 23 | Win count: 25 | Win rate: 0.788 | time: 100.2 seconds\n",
      "Epoch: 058/14999 | Loss: 0.0011 | Episodes: 10 | Win count: 25 | Win rate: 0.788 | time: 100.5 seconds\n",
      "Epoch: 059/14999 | Loss: 0.0005 | Episodes: 2 | Win count: 26 | Win rate: 0.788 | time: 100.5 seconds\n",
      "Epoch: 060/14999 | Loss: 0.0005 | Episodes: 14 | Win count: 26 | Win rate: 0.818 | time: 100.9 seconds\n",
      "Epoch: 061/14999 | Loss: 0.0001 | Episodes: 21 | Win count: 26 | Win rate: 0.818 | time: 101.5 seconds\n",
      "Epoch: 062/14999 | Loss: 0.0000 | Episodes: 23 | Win count: 26 | Win rate: 0.818 | time: 102.1 seconds\n",
      "Epoch: 063/14999 | Loss: 0.0012 | Episodes: 140 | Win count: 25 | Win rate: 0.788 | time: 106.1 seconds\n",
      "Epoch: 064/14999 | Loss: 0.0002 | Episodes: 8 | Win count: 25 | Win rate: 0.788 | time: 106.3 seconds\n",
      "Epoch: 065/14999 | Loss: 0.0008 | Episodes: 7 | Win count: 25 | Win rate: 0.788 | time: 106.5 seconds\n",
      "Epoch: 066/14999 | Loss: 0.0009 | Episodes: 152 | Win count: 25 | Win rate: 0.758 | time: 110.8 seconds\n",
      "Epoch: 067/14999 | Loss: 0.0017 | Episodes: 137 | Win count: 25 | Win rate: 0.788 | time: 114.7 seconds\n",
      "Epoch: 068/14999 | Loss: 0.0005 | Episodes: 3 | Win count: 25 | Win rate: 0.788 | time: 114.8 seconds\n",
      "Epoch: 069/14999 | Loss: 0.0019 | Episodes: 82 | Win count: 25 | Win rate: 0.788 | time: 117.1 seconds\n",
      "Epoch: 070/14999 | Loss: 0.0008 | Episodes: 2 | Win count: 25 | Win rate: 0.788 | time: 117.1 seconds\n",
      "Epoch: 071/14999 | Loss: 0.0008 | Episodes: 28 | Win count: 25 | Win rate: 0.788 | time: 117.9 seconds\n",
      "Epoch: 072/14999 | Loss: 0.0010 | Episodes: 37 | Win count: 25 | Win rate: 0.788 | time: 118.9 seconds\n",
      "Epoch: 073/14999 | Loss: 0.0004 | Episodes: 10 | Win count: 26 | Win rate: 0.788 | time: 119.2 seconds\n",
      "Epoch: 074/14999 | Loss: 0.0001 | Episodes: 69 | Win count: 26 | Win rate: 0.818 | time: 121.1 seconds\n",
      "Epoch: 075/14999 | Loss: 0.0001 | Episodes: 1 | Win count: 27 | Win rate: 0.818 | time: 121.1 seconds\n",
      "Epoch: 076/14999 | Loss: 0.0005 | Episodes: 17 | Win count: 28 | Win rate: 0.848 | time: 121.6 seconds\n",
      "Epoch: 077/14999 | Loss: 0.0002 | Episodes: 12 | Win count: 28 | Win rate: 0.879 | time: 121.9 seconds\n",
      "Epoch: 078/14999 | Loss: 0.0003 | Episodes: 28 | Win count: 28 | Win rate: 0.879 | time: 122.7 seconds\n",
      "Epoch: 079/14999 | Loss: 0.0013 | Episodes: 8 | Win count: 28 | Win rate: 0.879 | time: 122.9 seconds\n",
      "Epoch: 080/14999 | Loss: 0.0009 | Episodes: 7 | Win count: 28 | Win rate: 0.879 | time: 123.1 seconds\n",
      "Epoch: 081/14999 | Loss: 0.0009 | Episodes: 20 | Win count: 28 | Win rate: 0.879 | time: 123.6 seconds\n",
      "Epoch: 082/14999 | Loss: 0.0007 | Episodes: 13 | Win count: 28 | Win rate: 0.879 | time: 124.0 seconds\n",
      "Epoch: 083/14999 | Loss: 0.0006 | Episodes: 19 | Win count: 29 | Win rate: 0.879 | time: 124.5 seconds\n",
      "Epoch: 084/14999 | Loss: 0.0003 | Episodes: 19 | Win count: 29 | Win rate: 0.909 | time: 125.1 seconds\n",
      "Epoch: 085/14999 | Loss: 0.0005 | Episodes: 28 | Win count: 29 | Win rate: 0.909 | time: 125.9 seconds\n",
      "Epoch: 086/14999 | Loss: 0.0004 | Episodes: 16 | Win count: 29 | Win rate: 0.909 | time: 126.3 seconds\n",
      "Epoch: 087/14999 | Loss: 0.0007 | Episodes: 34 | Win count: 30 | Win rate: 0.909 | time: 127.3 seconds\n",
      "Epoch: 088/14999 | Loss: 0.0007 | Episodes: 31 | Win count: 30 | Win rate: 0.939 | time: 128.2 seconds\n",
      "Epoch: 089/14999 | Loss: 0.0011 | Episodes: 38 | Win count: 30 | Win rate: 0.939 | time: 129.2 seconds\n",
      "Epoch: 090/14999 | Loss: 0.0004 | Episodes: 23 | Win count: 30 | Win rate: 0.939 | time: 129.9 seconds\n",
      "Epoch: 091/14999 | Loss: 0.0011 | Episodes: 20 | Win count: 30 | Win rate: 0.939 | time: 130.4 seconds\n",
      "Epoch: 092/14999 | Loss: 0.0013 | Episodes: 31 | Win count: 30 | Win rate: 0.939 | time: 131.3 seconds\n",
      "Epoch: 093/14999 | Loss: 0.0004 | Episodes: 10 | Win count: 30 | Win rate: 0.939 | time: 131.6 seconds\n",
      "Epoch: 094/14999 | Loss: 0.0014 | Episodes: 26 | Win count: 30 | Win rate: 0.939 | time: 132.3 seconds\n",
      "Epoch: 095/14999 | Loss: 0.0008 | Episodes: 2 | Win count: 31 | Win rate: 0.939 | time: 132.3 seconds\n",
      "Epoch: 096/14999 | Loss: 0.0009 | Episodes: 35 | Win count: 31 | Win rate: 0.970 | time: 133.3 seconds\n",
      "Epoch: 097/14999 | Loss: 0.0001 | Episodes: 9 | Win count: 31 | Win rate: 0.970 | time: 133.6 seconds\n",
      "Epoch: 098/14999 | Loss: 0.0002 | Episodes: 8 | Win count: 32 | Win rate: 0.970 | time: 133.8 seconds\n",
      "Epoch: 099/14999 | Loss: 0.0001 | Episodes: 21 | Win count: 32 | Win rate: 1.000 | time: 134.4 seconds\n",
      "Epoch: 100/14999 | Loss: 0.0009 | Episodes: 23 | Win count: 32 | Win rate: 1.000 | time: 135.2 seconds\n",
      "Epoch: 101/14999 | Loss: 0.0007 | Episodes: 31 | Win count: 32 | Win rate: 1.000 | time: 136.4 seconds\n",
      "Epoch: 102/14999 | Loss: 0.0001 | Episodes: 27 | Win count: 32 | Win rate: 1.000 | time: 137.2 seconds\n",
      "Epoch: 103/14999 | Loss: 0.0003 | Episodes: 16 | Win count: 32 | Win rate: 1.000 | time: 138.3 seconds\n",
      "Epoch: 104/14999 | Loss: 0.0002 | Episodes: 8 | Win count: 32 | Win rate: 1.000 | time: 138.5 seconds\n",
      "Epoch: 105/14999 | Loss: 0.0006 | Episodes: 25 | Win count: 32 | Win rate: 1.000 | time: 139.3 seconds\n",
      "Epoch: 106/14999 | Loss: 0.0000 | Episodes: 17 | Win count: 32 | Win rate: 1.000 | time: 139.9 seconds\n",
      "Epoch: 107/14999 | Loss: 0.0017 | Episodes: 11 | Win count: 32 | Win rate: 1.000 | time: 140.2 seconds\n",
      "Epoch: 108/14999 | Loss: 0.0018 | Episodes: 26 | Win count: 32 | Win rate: 1.000 | time: 141.1 seconds\n",
      "Epoch: 109/14999 | Loss: 0.0018 | Episodes: 1 | Win count: 32 | Win rate: 1.000 | time: 141.1 seconds\n",
      "Epoch: 110/14999 | Loss: 0.0001 | Episodes: 9 | Win count: 32 | Win rate: 1.000 | time: 141.4 seconds\n",
      "Epoch: 111/14999 | Loss: 0.0001 | Episodes: 24 | Win count: 32 | Win rate: 1.000 | time: 142.2 seconds\n",
      "Epoch: 112/14999 | Loss: 0.0001 | Episodes: 18 | Win count: 32 | Win rate: 1.000 | time: 142.8 seconds\n",
      "Epoch: 113/14999 | Loss: 0.0003 | Episodes: 24 | Win count: 32 | Win rate: 1.000 | time: 143.5 seconds\n",
      "Epoch: 114/14999 | Loss: 0.0000 | Episodes: 5 | Win count: 32 | Win rate: 1.000 | time: 144.0 seconds\n",
      "Epoch: 115/14999 | Loss: 0.0000 | Episodes: 1 | Win count: 32 | Win rate: 1.000 | time: 144.4 seconds\n",
      "Epoch: 116/14999 | Loss: 0.0001 | Episodes: 7 | Win count: 32 | Win rate: 1.000 | time: 145.0 seconds\n",
      "Epoch: 117/14999 | Loss: 0.0002 | Episodes: 10 | Win count: 32 | Win rate: 1.000 | time: 145.3 seconds\n",
      "Epoch: 118/14999 | Loss: 0.0010 | Episodes: 13 | Win count: 32 | Win rate: 1.000 | time: 145.8 seconds\n",
      "Epoch: 119/14999 | Loss: 0.0001 | Episodes: 24 | Win count: 32 | Win rate: 1.000 | time: 147.1 seconds\n",
      "Epoch: 120/14999 | Loss: 0.0008 | Episodes: 13 | Win count: 32 | Win rate: 1.000 | time: 147.5 seconds\n",
      "Epoch: 121/14999 | Loss: 0.0000 | Episodes: 29 | Win count: 32 | Win rate: 1.000 | time: 148.4 seconds\n",
      "Epoch: 122/14999 | Loss: 0.0000 | Episodes: 1 | Win count: 32 | Win rate: 1.000 | time: 148.5 seconds\n",
      "Epoch: 123/14999 | Loss: 0.0007 | Episodes: 11 | Win count: 32 | Win rate: 1.000 | time: 148.9 seconds\n",
      "Epoch: 124/14999 | Loss: 0.0010 | Episodes: 38 | Win count: 32 | Win rate: 1.000 | time: 150.1 seconds\n",
      "Epoch: 125/14999 | Loss: 0.0003 | Episodes: 25 | Win count: 32 | Win rate: 1.000 | time: 150.9 seconds\n",
      "Epoch: 126/14999 | Loss: 0.0004 | Episodes: 21 | Win count: 32 | Win rate: 1.000 | time: 151.5 seconds\n",
      "Epoch: 127/14999 | Loss: 0.0001 | Episodes: 16 | Win count: 32 | Win rate: 1.000 | time: 152.1 seconds\n",
      "Epoch: 128/14999 | Loss: 0.0001 | Episodes: 15 | Win count: 32 | Win rate: 1.000 | time: 152.9 seconds\n",
      "Epoch: 129/14999 | Loss: 0.0001 | Episodes: 17 | Win count: 32 | Win rate: 1.000 | time: 153.4 seconds\n",
      "Epoch: 130/14999 | Loss: 0.0001 | Episodes: 1 | Win count: 32 | Win rate: 1.000 | time: 153.5 seconds\n",
      "Epoch: 131/14999 | Loss: 0.0004 | Episodes: 10 | Win count: 32 | Win rate: 1.000 | time: 153.8 seconds\n",
      "Epoch: 132/14999 | Loss: 0.0004 | Episodes: 30 | Win count: 32 | Win rate: 1.000 | time: 154.8 seconds\n",
      "Epoch: 133/14999 | Loss: 0.0000 | Episodes: 32 | Win count: 32 | Win rate: 1.000 | time: 155.7 seconds\n",
      "Epoch: 134/14999 | Loss: 0.0001 | Episodes: 8 | Win count: 32 | Win rate: 1.000 | time: 156.2 seconds\n",
      "Epoch: 135/14999 | Loss: 0.0012 | Episodes: 2 | Win count: 32 | Win rate: 1.000 | time: 156.3 seconds\n",
      "Epoch: 136/14999 | Loss: 0.0001 | Episodes: 18 | Win count: 32 | Win rate: 1.000 | time: 156.9 seconds\n",
      "Epoch: 137/14999 | Loss: 0.0000 | Episodes: 14 | Win count: 32 | Win rate: 1.000 | time: 157.4 seconds\n",
      "Reached 100% win rate at epoch: 137\n",
      "n_epoch: 137, max_mem: 512, data: 32, time: 157.9 seconds\n"
     ]
    },
    {
     "data": {
      "text/plain": [
       "157.900615"
      ]
     },
     "execution_count": 269,
     "metadata": {},
     "output_type": "execute_result"
    }
   ],
   "source": [
    "model = build_model(maze)\n",
    "qtrain(model, maze, epochs=1000, max_memory=8*maze.size, data_size=32)"
   ]
  },
  {
   "attachments": {},
   "cell_type": "markdown",
   "metadata": {},
   "source": [
    "This cell will check to see if the model passes the completion check. Note: This could take several minutes."
   ]
  },
  {
   "cell_type": "code",
   "execution_count": 270,
   "metadata": {},
   "outputs": [
    {
     "data": {
      "text/plain": [
       "<matplotlib.image.AxesImage at 0x21c3e11d488>"
      ]
     },
     "execution_count": 270,
     "metadata": {},
     "output_type": "execute_result"
    },
    {
     "data": {
      "image/png": "[encoded data removed]",
      "text/plain": [
       "<Figure size 432x288 with 1 Axes>"
      ]
     },
     "metadata": {
      "needs_background": "light"
     },
     "output_type": "display_data"
    }
   ],
   "source": [
    "completion_check(model, qmaze)\n",
    "show(qmaze)"
   ]
  },
  {
   "attachments": {},
   "cell_type": "markdown",
   "metadata": {},
   "source": [
    "This cell will test your model for one game. It will start the pirate at the top-left corner and run play_game. The agent should find a path from the starting position to the target (treasure). The treasure is located in the bottom-right corner."
   ]
  },
  {
   "cell_type": "code",
   "execution_count": 271,
   "metadata": {},
   "outputs": [
    {
     "data": {
      "text/plain": [
       "<matplotlib.image.AxesImage at 0x21c3f292c08>"
      ]
     },
     "execution_count": 271,
     "metadata": {},
     "output_type": "execute_result"
    },
    {
     "data": {
      "image/png": "[encoded data removed]",
      "text/plain": [
       "<Figure size 432x288 with 1 Axes>"
      ]
     },
     "metadata": {
      "needs_background": "light"
     },
     "output_type": "display_data"
    }
   ],
   "source": [
    "pirate_start = (0, 0)\n",
    "play_game(model, qmaze, pirate_start)\n",
    "show(qmaze)"
   ]
  },
  {
   "attachments": {},
   "cell_type": "markdown",
   "metadata": {},
   "source": [
    "## Save and Submit Your Work\n",
    "After you have finished creating the code for your notebook, save your work. Make sure that your notebook contains your name in the filename (e.g. Doe_Jane_ProjectTwo.ipynb). This will help your instructor access and grade your work easily. Download a copy of your IPYNB file and submit it to Brightspace. Refer to the Jupyter Notebook in Apporto Tutorial if you need help with these tasks."
   ]
  }
 ],
 "metadata": {
  "kernelspec": {
   "display_name": "Python 3",
   "language": "python",
   "name": "python3"
  },
  "language_info": {
   "codemirror_mode": {
    "name": "ipython",
    "version": 3
   },
   "file_extension": ".py",
   "mimetype": "text/x-python",
   "name": "python",
   "nbconvert_exporter": "python",
   "pygments_lexer": "ipython3",
   "version": "3.7.4"
  }
 },
 "nbformat": 4,
 "nbformat_minor": 2
}
